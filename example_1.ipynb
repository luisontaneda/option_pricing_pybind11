{
 "cells": [
  {
   "cell_type": "code",
   "execution_count": 6,
   "metadata": {},
   "outputs": [],
   "source": [
    "import os\n",
    "path = os.getcwd() + \"/build\"\n",
    "os.chdir(path)"
   ]
  },
  {
   "cell_type": "code",
   "execution_count": 8,
   "metadata": {},
   "outputs": [],
   "source": [
    "import option_pricing"
   ]
  },
  {
   "cell_type": "markdown",
   "metadata": {},
   "source": [
    "#### Vanilla Option Pricing\n",
    "\n",
    "Montecarlo and COS Method using Heston process"
   ]
  },
  {
   "cell_type": "code",
   "execution_count": 9,
   "metadata": {},
   "outputs": [
    {
     "data": {
      "text/plain": [
       "28.923481803341197"
      ]
     },
     "execution_count": 9,
     "metadata": {},
     "output_type": "execute_result"
    }
   ],
   "source": [
    "L = 8\n",
    "S_0 = 100.0  # Initial stock price\n",
    "K = 80.0     # Strike price\n",
    "r = 0.1      # Risk-free rate\n",
    "tau = 1.0    # Time to maturity\n",
    "kappa = .5   # Mean reversion rate\n",
    "v_mac = 0.04 # Long-term average volatility\n",
    "gmma = 1.0   # Volatility of volatility\n",
    "rho = -0.9   # Correlation coefficient\n",
    "v = 0.04     # Initial volatility\n",
    "n_steps = 252\n",
    "n_sims = 10000\n",
    "\n",
    "option = option_pricing.montecarlo.european\n",
    "\n",
    "option.vanilla.heston(S_0, K, tau, r, gmma, kappa, rho,  v, v_mac, n_steps, n_sims, \"Call\")\n",
    "\n",
    "#option.asian.heston(S_0, K, tau, r, gmma, kappa, rho,  v, v_mac, 252, \"Call\")"
   ]
  },
  {
   "cell_type": "code",
   "execution_count": 10,
   "metadata": {},
   "outputs": [
    {
     "data": {
      "text/plain": [
       "28.840300295749838"
      ]
     },
     "execution_count": 10,
     "metadata": {},
     "output_type": "execute_result"
    }
   ],
   "source": [
    "L = 8\n",
    "N = pow(2, 9)\n",
    "S_0 = 100.0  # Initial stock price\n",
    "K = 80.0     # Strike price\n",
    "r = 0.1      # Risk-free rate\n",
    "tau = 1.0    # Time to maturity\n",
    "kappa = .5   # Mean reversion rate\n",
    "v_mac = 0.04 # Long-term average volatility\n",
    "gmma = 1.0   # Volatility of volatility\n",
    "rho = -0.9   # Correlation coefficient\n",
    "v = 0.04     # Initial volatility\n",
    "\n",
    "option = option_pricing.cos_method.european\n",
    "\n",
    "option.vanilla.heston(S_0, K, tau, r, gmma, kappa, rho,  v, v_mac, L, N, \"Call\")"
   ]
  },
  {
   "cell_type": "markdown",
   "metadata": {},
   "source": [
    "#### Asian Option Pricing\n",
    "\n",
    "Montecarlo and COS Method using GBM process\n",
    "\n",
    "Fixed Strike price"
   ]
  },
  {
   "cell_type": "code",
   "execution_count": 11,
   "metadata": {},
   "outputs": [
    {
     "data": {
      "text/plain": [
       "20.295657544523895"
      ]
     },
     "execution_count": 11,
     "metadata": {},
     "output_type": "execute_result"
    }
   ],
   "source": [
    "S_t = 100.0\n",
    "K = 80.0\n",
    "T = .1\n",
    "mu = .1\n",
    "sigma = .25\n",
    "n_steps = 100\n",
    "n_sims = 250000\n",
    "\n",
    "option = option_pricing.montecarlo.european\n",
    "\n",
    "option.exotic.asian.gbm(S_t, K, T, mu, sigma, n_steps, n_sims, \"Call\")"
   ]
  },
  {
   "cell_type": "code",
   "execution_count": 12,
   "metadata": {},
   "outputs": [
    {
     "data": {
      "text/plain": [
       "20.315318890268202"
      ]
     },
     "execution_count": 12,
     "metadata": {},
     "output_type": "execute_result"
    }
   ],
   "source": [
    "S_t = 100.0\n",
    "K = 80.0\n",
    "T = .1\n",
    "mu = .1\n",
    "sigma = .25\n",
    "n_steps = 100\n",
    "N = pow(2, 9)\n",
    "\n",
    "# Terms in the Clenshaw–Curtis quadrature\n",
    "n_q = 1000\n",
    "L = 10\n",
    "\n",
    "option = option_pricing.cos_method.european\n",
    "\n",
    "option.exotic.asian.gbm(S_t, K, T, mu, sigma, n_steps, N, n_q, L, \"Call\")"
   ]
  }
 ],
 "metadata": {
  "kernelspec": {
   "display_name": "Python 3",
   "language": "python",
   "name": "python3"
  },
  "language_info": {
   "codemirror_mode": {
    "name": "ipython",
    "version": 3
   },
   "file_extension": ".py",
   "mimetype": "text/x-python",
   "name": "python",
   "nbconvert_exporter": "python",
   "pygments_lexer": "ipython3",
   "version": "3.10.12"
  }
 },
 "nbformat": 4,
 "nbformat_minor": 2
}
